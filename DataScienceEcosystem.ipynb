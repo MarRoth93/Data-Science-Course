{
 "cells": [
  {
   "cell_type": "markdown",
   "id": "6df5f963-0bb1-427f-b46b-774244683341",
   "metadata": {},
   "source": [
    "# Data Science Tools and Ecosystem"
   ]
  },
  {
   "cell_type": "markdown",
   "id": "3da23b78-b2dc-4e87-baaf-0caf1d8280ca",
   "metadata": {},
   "source": [
    "In this notebook, Data Science Tools and Ecosystem are summarized"
   ]
  },
  {
   "cell_type": "markdown",
   "id": "2107a325-e173-45d1-a401-907059c7fbaf",
   "metadata": {},
   "source": [
    "*Objectives:*\n",
    "- creating a markdown cell\n",
    "- creating a code cell\n",
    "- creating lists\n",
    "- creating tables\n",
    "- creating headers "
   ]
  },
  {
   "cell_type": "markdown",
   "id": "ed80bf00-0bca-4951-abfe-a1dbb713d89a",
   "metadata": {},
   "source": [
    "Some of the popular languages that Data Scientists use are:\n",
    "\n",
    "1. Python\n",
    "2. R\n",
    "3. Java\n",
    "4. C#\n",
    "5. Julia"
   ]
  },
  {
   "cell_type": "markdown",
   "id": "4a09e539-b583-440e-9ab1-5b96fb2d11bf",
   "metadata": {},
   "source": [
    "Some of the commonly used libraries used by Data Scientists include:\n",
    "\n",
    "1. Pandas\n",
    "2. Matplotlib\n",
    "3. Numpy\n",
    "4. Scipy"
   ]
  },
  {
   "cell_type": "markdown",
   "id": "068ee880-6d9d-4205-a5a9-eb12c4b6a203",
   "metadata": {},
   "source": [
    "| Data Science Tools |\n",
    "|------|\n",
    "|Vs Code|\n",
    "|Jupyter Notebook|\n",
    "|RStudio|"
   ]
  },
  {
   "cell_type": "markdown",
   "id": "433b37df-f9e3-4db0-a81b-579679e1b392",
   "metadata": {},
   "source": [
    "### Below are a few examples of evaluating arithmetic expressions in Python"
   ]
  },
  {
   "cell_type": "code",
   "execution_count": 3,
   "id": "e0665c85-cb96-40e7-9ffa-b44ff4c54dc4",
   "metadata": {},
   "outputs": [
    {
     "data": {
      "text/plain": [
       "17"
      ]
     },
     "execution_count": 3,
     "metadata": {},
     "output_type": "execute_result"
    }
   ],
   "source": [
    "#  This a simple arithmetic expression to mutiply then add integers\n",
    "(3*4)+5"
   ]
  },
  {
   "cell_type": "code",
   "execution_count": 4,
   "id": "31b19216-47c6-4f19-a014-e0d15fb5dc21",
   "metadata": {},
   "outputs": [
    {
     "data": {
      "text/plain": [
       "3.3333333333333335"
      ]
     },
     "execution_count": 4,
     "metadata": {},
     "output_type": "execute_result"
    }
   ],
   "source": [
    "# This will convert 200 minutes to hours by diving by 60\n",
    "200 / 60"
   ]
  },
  {
   "cell_type": "markdown",
   "id": "04cddf38-231f-4bb5-a601-d941ebdea3ac",
   "metadata": {},
   "source": [
    "## Author\n",
    "Marco Rothermel"
   ]
  },
  {
   "cell_type": "code",
   "execution_count": null,
   "id": "e6faa0c9-f8ac-4ff9-89a7-04091ab1f833",
   "metadata": {},
   "outputs": [],
   "source": []
  }
 ],
 "metadata": {
  "kernelspec": {
   "display_name": "Python 3 (ipykernel)",
   "language": "python",
   "name": "python3"
  },
  "language_info": {
   "codemirror_mode": {
    "name": "ipython",
    "version": 3
   },
   "file_extension": ".py",
   "mimetype": "text/x-python",
   "name": "python",
   "nbconvert_exporter": "python",
   "pygments_lexer": "ipython3",
   "version": "3.11.5"
  }
 },
 "nbformat": 4,
 "nbformat_minor": 5
}
